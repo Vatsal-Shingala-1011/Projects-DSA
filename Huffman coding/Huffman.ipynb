{
 "cells": [
  {
   "cell_type": "code",
   "execution_count": 8,
   "id": "5c73a9ca",
   "metadata": {
    "scrolled": true
   },
   "outputs": [
    {
     "name": "stdout",
     "output_type": "stream",
     "text": [
      "Enter Path: hi.txt\n",
      "3\n",
      "\n",
      "actual_text : aaaaaaaaaaaaaaaaaaaaaaaaaaaa\n",
      "bbbbbbbbbbbbbbbbbbbbbbbbbbb\n",
      "ccccccccccccccccccccccccccccccc\n",
      "ddddddddddddddddddddddddddddddd\n",
      "eeeeeeeeeeeeeeeeeeeeeeeeeeeee\n",
      "fffffffffffffffffffffffffffff\n"
     ]
    },
    {
     "data": {
      "text/plain": [
       "'hi_decompressed.txt'"
      ]
     },
     "execution_count": 8,
     "metadata": {},
     "output_type": "execute_result"
    }
   ],
   "source": [
    "import heapq\n",
    "import os\n",
    "\n",
    "class BinaryTree: \n",
    "    def __init__(self,val,freq):\n",
    "        self.val=val #store value(binary)\n",
    "        self.freq=freq #freq\n",
    "        self.left=None\n",
    "        self.right=None\n",
    "        \n",
    "    def __lt__(self,other):\n",
    "        return self.freq < other.freq\n",
    "    \n",
    "    def __eq__(self,other):\n",
    "        return self.freq==other.freq\n",
    "\n",
    "class Huffmancode:\n",
    "    def __init__(self,path):\n",
    "        self.path=path\n",
    "        self.__char_heap=[] #min heap-store char in heap according to frequency\n",
    "        self.__code_dict={} #dict that contain binary representation for each char\n",
    "        self.__code_to_char_dict={}\n",
    "    def __fre_cnt(self,text):\n",
    "        fre_dict={}  # dictionary of fre of char\n",
    "        for char in text:\n",
    "            if char not in fre_dict:\n",
    "                fre_dict[char]=0\n",
    "            fre_dict[char]+=1\n",
    "        return fre_dict\n",
    "    \n",
    "    def __build_heap(self,freq_dict):\n",
    "        for key in freq_dict:\n",
    "            heapq.heappush(self.__char_heap, BinaryTree(key,freq_dict[key]))# lt and eq we define function above so heap push BinaryTree node according to it\n",
    "                        # push BinaryTree node into __heap(that we definr in init )\n",
    "    def __build_BT(self):\n",
    "        while len(self.__char_heap)>1:\n",
    "            min1=heapq.heappop(self.__char_heap) # two smallest node from heap\n",
    "            min2=heapq.heappop(self.__char_heap)###################cheak self.__heap.heappop()\n",
    "            newnode=BinaryTree(None,min1.freq+min2.freq)\n",
    "            newnode.left=min1\n",
    "            newnode.right=min2  \n",
    "            heapq.heappush(self.__char_heap, newnode)\n",
    "        return\n",
    "        \n",
    "    def __abstract_char_code(self,root,bits_str):\n",
    "        if root.val is not None: #only leef node contain value #no node left or right to node that contain val \n",
    "            self.__code_dict[root.val]=bits_str\n",
    "            self.__code_to_char_dict[bits_str]=root.val\n",
    "            return\n",
    "        self.__abstract_char_code(root.left,bits_str+\"0\")\n",
    "        self.__abstract_char_code(root.right,bits_str+\"1\")\n",
    "        \n",
    "    def __encode(self,text):\n",
    "        encoded_str=\"\"\n",
    "        for char in text:\n",
    "            encoded_str+=self.__code_dict[char]\n",
    "        return encoded_str\n",
    "    \n",
    "    def __do_padding(self,encoded_text):\n",
    "        val=8-len(encoded_text)%8 \n",
    "        for i in range(val): # so that string can divide in to bit of 8 \n",
    "            encoded_text+='0'\n",
    "        first=\"{0:08b}\".format(val) # binary string of val of len 8 \n",
    "        return first+encoded_text\n",
    "        \n",
    "    def __final_coded_array(self,padded_text):\n",
    "        array=[]\n",
    "        for i in range(0,len(padded_text),8):\n",
    "            hexa_str=padded_text[i:i+8]\n",
    "            array.append(int(hexa_str,2))\n",
    "        return array\n",
    "        \n",
    "    def compression(self):\n",
    "        filename,extention =os.path.splitext(self.path)\n",
    "        output_path =filename+'.bin'\n",
    "        with open(self.path,'r+') as file,open(output_path,'wb') as output:\n",
    "            text=file.read()\n",
    "            text=text.rstrip() #remove extra spaces\n",
    "            #count of frequence of char in string\n",
    "            freq_dict=self.__fre_cnt(text)\n",
    "            #creating a heap to store char according to freq\n",
    "            char_heap = self.__build_heap(freq_dict)\n",
    "            #creating binary tree according to frequncy of each node\n",
    "            self.__build_BT()\n",
    "            #Now abstract value for each node in binary form from BT that we construct above and store in dictionary\n",
    "            self.__abstract_char_code(heapq.heappop(self.__char_heap), '')# char_heap contain only one elemet\n",
    "                                        ## root                     ,bits_str\n",
    "            #Now construct encoded text from abstract char code\n",
    "            encoded_text= self.__encode(text)\n",
    "            \n",
    "            #adding padding to this encoded text\n",
    "            padded_text=self.__do_padding(encoded_text)\n",
    "            #Now convert this padded text into arry of hexa number\n",
    "            final_coded_array=self.__final_coded_array(padded_text)\n",
    "            final_op=bytes(final_coded_array)\n",
    "            output.write(final_op)\n",
    "#             print(encoded_text)\n",
    "#             print()\n",
    "#             print(padded_text)\n",
    "        return output_path\n",
    "    \n",
    "    def __Remove_padding(self,text):\n",
    "        val= int(text[:8],2)\n",
    "        print(val)\n",
    "        text=text[8:]\n",
    "        text=text[:-1*val]\n",
    "#         print(\"remove_padd\",text)\n",
    "        return text\n",
    "    \n",
    "    def __Decoded_text(self,text):\n",
    "        curr_bits=\"\"\n",
    "        decoded_text=\"\"\n",
    "        for char in text:\n",
    "            curr_bits+=char\n",
    "            if curr_bits in self.__code_to_char_dict:\n",
    "                decoded_text+=self.__code_to_char_dict[curr_bits]\n",
    "                curr_bits=\"\"\n",
    "        return decoded_text \n",
    "    \n",
    "    #0XB3F1-->integer form(ord function to convert hexa to int)-->binary(bin function to convert int to binary )\n",
    "    def decompress(self,input_path):\n",
    "        filename,file_extention =os.path.splitext(input_path)\n",
    "        output_path=filename+'_decompressed' +'.txt'\n",
    "        with open(input_path,'rb') as file,open(output_path,'w') as output:\n",
    "            bit_string=\"\"\n",
    "            byte=file.read(1) #read one byte eachtime 1byte=8bit(00000000)\n",
    "            while byte:\n",
    "                byte =ord(byte) #In this line, you read one byte (8 bits) from the file and convert it to its corresponding ASCII value using the ord() function. The byte variable will store this ASCII value.\n",
    "                bits =bin(byte)[2:].rjust(8,'0') #The bin(byte) function converts the ASCII value (integer) stored in byte into its binary representation. The output will have the prefix \"0b\" followed by the actual binary digits. For example, if byte is 72 (ASCII value of 'H'), then bin(byte) would return '0b1001000'. Next, [2:] is used to remove the '0b' prefix, so bits will contain only the binary digits ('1001000' in the example). The rjust(8, '0') method right-justifies the binary string by adding leading zeros to ensure that the final length of the binary string is exactly 8 bits. For example, if bits is '1001000', rjust(8, '0') will add three leading zeros to make it '01001000'.\n",
    "                bit_string +=bits\n",
    "                byte=file.read(1)\n",
    "            #Now we have to remove padding\n",
    "            Removing_padding=self.__Remove_padding(bit_string)\n",
    "            actual_text=self.__Decoded_text(Removing_padding)\n",
    "            print()\n",
    "            print(\"actual_text :\",actual_text)\n",
    "            output.write(actual_text)\n",
    "        return output_path\n",
    "path =input(\"Enter Path: \")\n",
    "h=Huffmancode(path)   \n",
    "compressed_file=h.compression()\n",
    "h.decompress(compressed_file)"
   ]
  },
  {
   "cell_type": "code",
   "execution_count": 9,
   "id": "bb73286c",
   "metadata": {},
   "outputs": [
    {
     "name": "stdout",
     "output_type": "stream",
     "text": [
      "{'d': '00', '\\n': '010', 'b': '011', 'a': '100', 'e': '101', 'f': '110', 'c': '111'}\n"
     ]
    }
   ],
   "source": [
    "print(h._Huffmancode__code_dict)"
   ]
  },
  {
   "cell_type": "code",
   "execution_count": 10,
   "id": "7128cb2a",
   "metadata": {},
   "outputs": [
    {
     "name": "stdout",
     "output_type": "stream",
     "text": [
      "{'00': 'd', '010': '\\n', '011': 'b', '100': 'a', '101': 'e', '110': 'f', '111': 'c'}\n"
     ]
    }
   ],
   "source": [
    "print(h._Huffmancode__code_to_char_dict)"
   ]
  },
  {
   "cell_type": "code",
   "execution_count": null,
   "id": "d134a70b",
   "metadata": {},
   "outputs": [],
   "source": []
  },
  {
   "cell_type": "code",
   "execution_count": null,
   "id": "8d1e376e",
   "metadata": {},
   "outputs": [],
   "source": []
  }
 ],
 "metadata": {
  "kernelspec": {
   "display_name": "Python 3 (ipykernel)",
   "language": "python",
   "name": "python3"
  },
  "language_info": {
   "codemirror_mode": {
    "name": "ipython",
    "version": 3
   },
   "file_extension": ".py",
   "mimetype": "text/x-python",
   "name": "python",
   "nbconvert_exporter": "python",
   "pygments_lexer": "ipython3",
   "version": "3.9.12"
  }
 },
 "nbformat": 4,
 "nbformat_minor": 5
}
